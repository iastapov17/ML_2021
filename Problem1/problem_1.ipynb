{
 "cells": [
  {
   "cell_type": "markdown",
   "metadata": {},
   "source": [
    "# Data preprocessing"
   ]
  },
  {
   "cell_type": "code",
   "execution_count": 1,
   "metadata": {},
   "outputs": [],
   "source": [
    "import pandas as pd"
   ]
  },
  {
   "cell_type": "code",
   "execution_count": 2,
   "metadata": {},
   "outputs": [],
   "source": [
    "import numpy as np"
   ]
  },
  {
   "cell_type": "code",
   "execution_count": 3,
   "metadata": {},
   "outputs": [],
   "source": [
    "from sklearn.model_selection import train_test_split"
   ]
  },
  {
   "cell_type": "code",
   "execution_count": 4,
   "metadata": {},
   "outputs": [],
   "source": [
    "from sklearn.preprocessing import minmax_scale, PolynomialFeatures"
   ]
  },
  {
   "cell_type": "code",
   "execution_count": 5,
   "metadata": {},
   "outputs": [],
   "source": [
    "from sklearn.metrics import classification_report"
   ]
  },
  {
   "cell_type": "code",
   "execution_count": 6,
   "metadata": {},
   "outputs": [],
   "source": [
    "from sklearn.model_selection import GridSearchCV\n",
    "from sklearn.linear_model import LogisticRegression\n",
    "from sklearn.naive_bayes import GaussianNB\n",
    "from sklearn.neighbors import KNeighborsClassifier"
   ]
  },
  {
   "cell_type": "code",
   "execution_count": 7,
   "metadata": {},
   "outputs": [],
   "source": [
    "def preprocess_numerical_columns(df, columns):\n",
    "    new_cols = []\n",
    "    pf = PolynomialFeatures(2)\n",
    "    for col in columns:\n",
    "        value = minmax_scale(df[[col]])\n",
    "        df.drop(columns=col, inplace=True)\n",
    "        poly_value = pf.fit_transform(value)\n",
    "        for i in range(poly_value.shape[1]):\n",
    "            df[f'{col}_{i}'] = poly_value[:, i]\n",
    "            new_cols.append(f'{col}_{i}')\n",
    "    return new_cols"
   ]
  },
  {
   "cell_type": "code",
   "execution_count": 8,
   "metadata": {},
   "outputs": [],
   "source": [
    "def encode_date(data, columns, max_values):\n",
    "    for col, max_val in zip(columns, max_values):\n",
    "        data[col + '_sin'] = np.sin(2 * np.pi * data[col] / max_val)\n",
    "        data[col + '_cos'] = np.cos(2 * np.pi * data[col] / max_val)\n",
    "    data.drop(columns=col, inplace=True)\n",
    "    return data"
   ]
  },
  {
   "cell_type": "code",
   "execution_count": 9,
   "metadata": {},
   "outputs": [],
   "source": [
    "data = pd.read_csv(\"weatherAUS.csv\")"
   ]
  },
  {
   "cell_type": "code",
   "execution_count": 10,
   "metadata": {},
   "outputs": [
    {
     "data": {
      "text/html": [
       "<div>\n",
       "<style scoped>\n",
       "    .dataframe tbody tr th:only-of-type {\n",
       "        vertical-align: middle;\n",
       "    }\n",
       "\n",
       "    .dataframe tbody tr th {\n",
       "        vertical-align: top;\n",
       "    }\n",
       "\n",
       "    .dataframe thead th {\n",
       "        text-align: right;\n",
       "    }\n",
       "</style>\n",
       "<table border=\"1\" class=\"dataframe\">\n",
       "  <thead>\n",
       "    <tr style=\"text-align: right;\">\n",
       "      <th></th>\n",
       "      <th>Date</th>\n",
       "      <th>Location</th>\n",
       "      <th>MinTemp</th>\n",
       "      <th>MaxTemp</th>\n",
       "      <th>Rainfall</th>\n",
       "      <th>Evaporation</th>\n",
       "      <th>Sunshine</th>\n",
       "      <th>WindGustDir</th>\n",
       "      <th>WindGustSpeed</th>\n",
       "      <th>WindDir9am</th>\n",
       "      <th>...</th>\n",
       "      <th>Humidity9am</th>\n",
       "      <th>Humidity3pm</th>\n",
       "      <th>Pressure9am</th>\n",
       "      <th>Pressure3pm</th>\n",
       "      <th>Cloud9am</th>\n",
       "      <th>Cloud3pm</th>\n",
       "      <th>Temp9am</th>\n",
       "      <th>Temp3pm</th>\n",
       "      <th>RainToday</th>\n",
       "      <th>RainTomorrow</th>\n",
       "    </tr>\n",
       "  </thead>\n",
       "  <tbody>\n",
       "    <tr>\n",
       "      <th>0</th>\n",
       "      <td>2008-12-01</td>\n",
       "      <td>Albury</td>\n",
       "      <td>13.4</td>\n",
       "      <td>22.9</td>\n",
       "      <td>0.6</td>\n",
       "      <td>NaN</td>\n",
       "      <td>NaN</td>\n",
       "      <td>W</td>\n",
       "      <td>44.0</td>\n",
       "      <td>W</td>\n",
       "      <td>...</td>\n",
       "      <td>71.0</td>\n",
       "      <td>22.0</td>\n",
       "      <td>1007.7</td>\n",
       "      <td>1007.1</td>\n",
       "      <td>8.0</td>\n",
       "      <td>NaN</td>\n",
       "      <td>16.9</td>\n",
       "      <td>21.8</td>\n",
       "      <td>No</td>\n",
       "      <td>No</td>\n",
       "    </tr>\n",
       "    <tr>\n",
       "      <th>1</th>\n",
       "      <td>2008-12-02</td>\n",
       "      <td>Albury</td>\n",
       "      <td>7.4</td>\n",
       "      <td>25.1</td>\n",
       "      <td>0.0</td>\n",
       "      <td>NaN</td>\n",
       "      <td>NaN</td>\n",
       "      <td>WNW</td>\n",
       "      <td>44.0</td>\n",
       "      <td>NNW</td>\n",
       "      <td>...</td>\n",
       "      <td>44.0</td>\n",
       "      <td>25.0</td>\n",
       "      <td>1010.6</td>\n",
       "      <td>1007.8</td>\n",
       "      <td>NaN</td>\n",
       "      <td>NaN</td>\n",
       "      <td>17.2</td>\n",
       "      <td>24.3</td>\n",
       "      <td>No</td>\n",
       "      <td>No</td>\n",
       "    </tr>\n",
       "    <tr>\n",
       "      <th>2</th>\n",
       "      <td>2008-12-03</td>\n",
       "      <td>Albury</td>\n",
       "      <td>12.9</td>\n",
       "      <td>25.7</td>\n",
       "      <td>0.0</td>\n",
       "      <td>NaN</td>\n",
       "      <td>NaN</td>\n",
       "      <td>WSW</td>\n",
       "      <td>46.0</td>\n",
       "      <td>W</td>\n",
       "      <td>...</td>\n",
       "      <td>38.0</td>\n",
       "      <td>30.0</td>\n",
       "      <td>1007.6</td>\n",
       "      <td>1008.7</td>\n",
       "      <td>NaN</td>\n",
       "      <td>2.0</td>\n",
       "      <td>21.0</td>\n",
       "      <td>23.2</td>\n",
       "      <td>No</td>\n",
       "      <td>No</td>\n",
       "    </tr>\n",
       "    <tr>\n",
       "      <th>3</th>\n",
       "      <td>2008-12-04</td>\n",
       "      <td>Albury</td>\n",
       "      <td>9.2</td>\n",
       "      <td>28.0</td>\n",
       "      <td>0.0</td>\n",
       "      <td>NaN</td>\n",
       "      <td>NaN</td>\n",
       "      <td>NE</td>\n",
       "      <td>24.0</td>\n",
       "      <td>SE</td>\n",
       "      <td>...</td>\n",
       "      <td>45.0</td>\n",
       "      <td>16.0</td>\n",
       "      <td>1017.6</td>\n",
       "      <td>1012.8</td>\n",
       "      <td>NaN</td>\n",
       "      <td>NaN</td>\n",
       "      <td>18.1</td>\n",
       "      <td>26.5</td>\n",
       "      <td>No</td>\n",
       "      <td>No</td>\n",
       "    </tr>\n",
       "    <tr>\n",
       "      <th>4</th>\n",
       "      <td>2008-12-05</td>\n",
       "      <td>Albury</td>\n",
       "      <td>17.5</td>\n",
       "      <td>32.3</td>\n",
       "      <td>1.0</td>\n",
       "      <td>NaN</td>\n",
       "      <td>NaN</td>\n",
       "      <td>W</td>\n",
       "      <td>41.0</td>\n",
       "      <td>ENE</td>\n",
       "      <td>...</td>\n",
       "      <td>82.0</td>\n",
       "      <td>33.0</td>\n",
       "      <td>1010.8</td>\n",
       "      <td>1006.0</td>\n",
       "      <td>7.0</td>\n",
       "      <td>8.0</td>\n",
       "      <td>17.8</td>\n",
       "      <td>29.7</td>\n",
       "      <td>No</td>\n",
       "      <td>No</td>\n",
       "    </tr>\n",
       "  </tbody>\n",
       "</table>\n",
       "<p>5 rows × 23 columns</p>\n",
       "</div>"
      ],
      "text/plain": [
       "         Date Location  MinTemp  MaxTemp  Rainfall  Evaporation  Sunshine  \\\n",
       "0  2008-12-01   Albury     13.4     22.9       0.6          NaN       NaN   \n",
       "1  2008-12-02   Albury      7.4     25.1       0.0          NaN       NaN   \n",
       "2  2008-12-03   Albury     12.9     25.7       0.0          NaN       NaN   \n",
       "3  2008-12-04   Albury      9.2     28.0       0.0          NaN       NaN   \n",
       "4  2008-12-05   Albury     17.5     32.3       1.0          NaN       NaN   \n",
       "\n",
       "  WindGustDir  WindGustSpeed WindDir9am  ... Humidity9am  Humidity3pm  \\\n",
       "0           W           44.0          W  ...        71.0         22.0   \n",
       "1         WNW           44.0        NNW  ...        44.0         25.0   \n",
       "2         WSW           46.0          W  ...        38.0         30.0   \n",
       "3          NE           24.0         SE  ...        45.0         16.0   \n",
       "4           W           41.0        ENE  ...        82.0         33.0   \n",
       "\n",
       "   Pressure9am  Pressure3pm  Cloud9am  Cloud3pm  Temp9am  Temp3pm  RainToday  \\\n",
       "0       1007.7       1007.1       8.0       NaN     16.9     21.8         No   \n",
       "1       1010.6       1007.8       NaN       NaN     17.2     24.3         No   \n",
       "2       1007.6       1008.7       NaN       2.0     21.0     23.2         No   \n",
       "3       1017.6       1012.8       NaN       NaN     18.1     26.5         No   \n",
       "4       1010.8       1006.0       7.0       8.0     17.8     29.7         No   \n",
       "\n",
       "   RainTomorrow  \n",
       "0            No  \n",
       "1            No  \n",
       "2            No  \n",
       "3            No  \n",
       "4            No  \n",
       "\n",
       "[5 rows x 23 columns]"
      ]
     },
     "execution_count": 10,
     "metadata": {},
     "output_type": "execute_result"
    }
   ],
   "source": [
    "data.head()"
   ]
  },
  {
   "cell_type": "code",
   "execution_count": 11,
   "metadata": {},
   "outputs": [
    {
     "data": {
      "text/plain": [
       "Date             0.000000\n",
       "Location         0.000000\n",
       "MaxTemp          0.008669\n",
       "MinTemp          0.010209\n",
       "Temp9am          0.012148\n",
       "WindSpeed9am     0.012148\n",
       "Humidity9am      0.018246\n",
       "WindSpeed3pm     0.021050\n",
       "Rainfall         0.022419\n",
       "RainToday        0.022419\n",
       "RainTomorrow     0.022460\n",
       "Temp3pm          0.024811\n",
       "WindDir3pm       0.029066\n",
       "Humidity3pm      0.030984\n",
       "WindGustSpeed    0.070555\n",
       "WindGustDir      0.070989\n",
       "WindDir9am       0.072639\n",
       "Pressure3pm      0.103314\n",
       "Pressure9am      0.103568\n",
       "Cloud9am         0.384216\n",
       "Cloud3pm         0.408071\n",
       "Evaporation      0.431665\n",
       "Sunshine         0.480098\n",
       "dtype: float64"
      ]
     },
     "execution_count": 11,
     "metadata": {},
     "output_type": "execute_result"
    }
   ],
   "source": [
    "data.isna().sum().sort_values() / data.shape[0]"
   ]
  },
  {
   "cell_type": "code",
   "execution_count": 12,
   "metadata": {},
   "outputs": [],
   "source": [
    "data = data.dropna()"
   ]
  },
  {
   "cell_type": "code",
   "execution_count": 13,
   "metadata": {},
   "outputs": [],
   "source": [
    "data['Date'] = pd.to_datetime(data['Date'])\n",
    "data['year'] = data.Date.dt.year\n",
    "data['month'] = data.Date.dt.month\n",
    "data['day'] = data.Date.dt.day\n",
    "data.drop(columns='Date', inplace=True)"
   ]
  },
  {
   "cell_type": "code",
   "execution_count": 14,
   "metadata": {},
   "outputs": [],
   "source": [
    "data = encode_date(data, ['day', 'month', 'year'], [365, 12, 2021])"
   ]
  },
  {
   "cell_type": "code",
   "execution_count": 15,
   "metadata": {},
   "outputs": [],
   "source": [
    "data['RainToday'] = data['RainToday'].apply(lambda x: 0 if x == 'No' else 1)"
   ]
  },
  {
   "cell_type": "code",
   "execution_count": 16,
   "metadata": {},
   "outputs": [],
   "source": [
    "data['RainTomorrow'] = data['RainTomorrow'].apply(lambda x: 0 if x == 'No' else 1)"
   ]
  },
  {
   "cell_type": "code",
   "execution_count": 17,
   "metadata": {},
   "outputs": [],
   "source": [
    "categorical_columns = [\"Location\", \"WindGustDir\", \"WindDir9am\", \"WindDir3pm\"]\n",
    "\n",
    "data = pd.get_dummies(data, columns=categorical_columns)"
   ]
  },
  {
   "cell_type": "code",
   "execution_count": 18,
   "metadata": {},
   "outputs": [],
   "source": [
    "numerical_columns = [\n",
    "    \"MinTemp\",\n",
    "    \"MaxTemp\",\n",
    "    \"Rainfall\",\n",
    "    \"WindGustSpeed\",\n",
    "    \"WindSpeed9am\",\n",
    "    \"WindSpeed3pm\",\n",
    "    \"Humidity9am\",\n",
    "    \"Humidity3pm\",\n",
    "    \"Pressure9am\",\n",
    "    \"Pressure3pm\",\n",
    "    \"Temp9am\",\n",
    "    \"Temp3pm\",\n",
    "]"
   ]
  },
  {
   "cell_type": "code",
   "execution_count": 19,
   "metadata": {},
   "outputs": [
    {
     "data": {
      "text/html": [
       "<style  type=\"text/css\" >\n",
       "#T_4190b62c_9221_11eb_84b0_acde48001122row0_col0,#T_4190b62c_9221_11eb_84b0_acde48001122row1_col1,#T_4190b62c_9221_11eb_84b0_acde48001122row2_col2,#T_4190b62c_9221_11eb_84b0_acde48001122row3_col3,#T_4190b62c_9221_11eb_84b0_acde48001122row4_col4,#T_4190b62c_9221_11eb_84b0_acde48001122row5_col5,#T_4190b62c_9221_11eb_84b0_acde48001122row6_col6,#T_4190b62c_9221_11eb_84b0_acde48001122row7_col7,#T_4190b62c_9221_11eb_84b0_acde48001122row8_col8,#T_4190b62c_9221_11eb_84b0_acde48001122row9_col9,#T_4190b62c_9221_11eb_84b0_acde48001122row10_col10,#T_4190b62c_9221_11eb_84b0_acde48001122row11_col11{\n",
       "            background-color:  #b40426;\n",
       "            color:  #f1f1f1;\n",
       "        }#T_4190b62c_9221_11eb_84b0_acde48001122row0_col1,#T_4190b62c_9221_11eb_84b0_acde48001122row1_col0{\n",
       "            background-color:  #e7745b;\n",
       "            color:  #000000;\n",
       "        }#T_4190b62c_9221_11eb_84b0_acde48001122row0_col2{\n",
       "            background-color:  #8caffe;\n",
       "            color:  #000000;\n",
       "        }#T_4190b62c_9221_11eb_84b0_acde48001122row0_col3{\n",
       "            background-color:  #bbd1f8;\n",
       "            color:  #000000;\n",
       "        }#T_4190b62c_9221_11eb_84b0_acde48001122row0_col4,#T_4190b62c_9221_11eb_84b0_acde48001122row7_col8{\n",
       "            background-color:  #97b8ff;\n",
       "            color:  #000000;\n",
       "        }#T_4190b62c_9221_11eb_84b0_acde48001122row0_col5{\n",
       "            background-color:  #aac7fd;\n",
       "            color:  #000000;\n",
       "        }#T_4190b62c_9221_11eb_84b0_acde48001122row0_col6,#T_4190b62c_9221_11eb_84b0_acde48001122row6_col0{\n",
       "            background-color:  #80a3fa;\n",
       "            color:  #000000;\n",
       "        }#T_4190b62c_9221_11eb_84b0_acde48001122row0_col7{\n",
       "            background-color:  #bad0f8;\n",
       "            color:  #000000;\n",
       "        }#T_4190b62c_9221_11eb_84b0_acde48001122row0_col8,#T_4190b62c_9221_11eb_84b0_acde48001122row0_col9,#T_4190b62c_9221_11eb_84b0_acde48001122row1_col6,#T_4190b62c_9221_11eb_84b0_acde48001122row6_col1,#T_4190b62c_9221_11eb_84b0_acde48001122row6_col4,#T_4190b62c_9221_11eb_84b0_acde48001122row7_col11,#T_4190b62c_9221_11eb_84b0_acde48001122row8_col2,#T_4190b62c_9221_11eb_84b0_acde48001122row8_col3,#T_4190b62c_9221_11eb_84b0_acde48001122row8_col5,#T_4190b62c_9221_11eb_84b0_acde48001122row9_col0,#T_4190b62c_9221_11eb_84b0_acde48001122row9_col10,#T_4190b62c_9221_11eb_84b0_acde48001122row10_col9,#T_4190b62c_9221_11eb_84b0_acde48001122row11_col7{\n",
       "            background-color:  #3b4cc0;\n",
       "            color:  #f1f1f1;\n",
       "        }#T_4190b62c_9221_11eb_84b0_acde48001122row0_col10{\n",
       "            background-color:  #ca3b37;\n",
       "            color:  #f1f1f1;\n",
       "        }#T_4190b62c_9221_11eb_84b0_acde48001122row0_col11,#T_4190b62c_9221_11eb_84b0_acde48001122row11_col0{\n",
       "            background-color:  #ea7b60;\n",
       "            color:  #000000;\n",
       "        }#T_4190b62c_9221_11eb_84b0_acde48001122row1_col2{\n",
       "            background-color:  #5673e0;\n",
       "            color:  #000000;\n",
       "        }#T_4190b62c_9221_11eb_84b0_acde48001122row1_col3,#T_4190b62c_9221_11eb_84b0_acde48001122row4_col1,#T_4190b62c_9221_11eb_84b0_acde48001122row5_col11{\n",
       "            background-color:  #a7c5fe;\n",
       "            color:  #000000;\n",
       "        }#T_4190b62c_9221_11eb_84b0_acde48001122row1_col4,#T_4190b62c_9221_11eb_84b0_acde48001122row4_col8{\n",
       "            background-color:  #7699f6;\n",
       "            color:  #000000;\n",
       "        }#T_4190b62c_9221_11eb_84b0_acde48001122row1_col5,#T_4190b62c_9221_11eb_84b0_acde48001122row10_col4{\n",
       "            background-color:  #88abfd;\n",
       "            color:  #000000;\n",
       "        }#T_4190b62c_9221_11eb_84b0_acde48001122row1_col7,#T_4190b62c_9221_11eb_84b0_acde48001122row1_col9,#T_4190b62c_9221_11eb_84b0_acde48001122row7_col1,#T_4190b62c_9221_11eb_84b0_acde48001122row9_col3,#T_4190b62c_9221_11eb_84b0_acde48001122row9_col5{\n",
       "            background-color:  #445acc;\n",
       "            color:  #f1f1f1;\n",
       "        }#T_4190b62c_9221_11eb_84b0_acde48001122row1_col8{\n",
       "            background-color:  #5470de;\n",
       "            color:  #000000;\n",
       "        }#T_4190b62c_9221_11eb_84b0_acde48001122row1_col10,#T_4190b62c_9221_11eb_84b0_acde48001122row10_col1{\n",
       "            background-color:  #cd423b;\n",
       "            color:  #f1f1f1;\n",
       "        }#T_4190b62c_9221_11eb_84b0_acde48001122row1_col11,#T_4190b62c_9221_11eb_84b0_acde48001122row11_col1{\n",
       "            background-color:  #b70d28;\n",
       "            color:  #f1f1f1;\n",
       "        }#T_4190b62c_9221_11eb_84b0_acde48001122row2_col0,#T_4190b62c_9221_11eb_84b0_acde48001122row4_col0{\n",
       "            background-color:  #c1d4f4;\n",
       "            color:  #000000;\n",
       "        }#T_4190b62c_9221_11eb_84b0_acde48001122row2_col1,#T_4190b62c_9221_11eb_84b0_acde48001122row2_col11{\n",
       "            background-color:  #98b9ff;\n",
       "            color:  #000000;\n",
       "        }#T_4190b62c_9221_11eb_84b0_acde48001122row2_col3,#T_4190b62c_9221_11eb_84b0_acde48001122row6_col2,#T_4190b62c_9221_11eb_84b0_acde48001122row7_col0{\n",
       "            background-color:  #b9d0f9;\n",
       "            color:  #000000;\n",
       "        }#T_4190b62c_9221_11eb_84b0_acde48001122row2_col4,#T_4190b62c_9221_11eb_84b0_acde48001122row7_col10,#T_4190b62c_9221_11eb_84b0_acde48001122row10_col7{\n",
       "            background-color:  #86a9fc;\n",
       "            color:  #000000;\n",
       "        }#T_4190b62c_9221_11eb_84b0_acde48001122row2_col5{\n",
       "            background-color:  #90b2fe;\n",
       "            color:  #000000;\n",
       "        }#T_4190b62c_9221_11eb_84b0_acde48001122row2_col6{\n",
       "            background-color:  #dedcdb;\n",
       "            color:  #000000;\n",
       "        }#T_4190b62c_9221_11eb_84b0_acde48001122row2_col7{\n",
       "            background-color:  #e1dad6;\n",
       "            color:  #000000;\n",
       "        }#T_4190b62c_9221_11eb_84b0_acde48001122row2_col8,#T_4190b62c_9221_11eb_84b0_acde48001122row3_col6{\n",
       "            background-color:  #7b9ff9;\n",
       "            color:  #000000;\n",
       "        }#T_4190b62c_9221_11eb_84b0_acde48001122row2_col9{\n",
       "            background-color:  #89acfd;\n",
       "            color:  #000000;\n",
       "        }#T_4190b62c_9221_11eb_84b0_acde48001122row2_col10{\n",
       "            background-color:  #adc9fd;\n",
       "            color:  #000000;\n",
       "        }#T_4190b62c_9221_11eb_84b0_acde48001122row3_col0{\n",
       "            background-color:  #c4d5f3;\n",
       "            color:  #000000;\n",
       "        }#T_4190b62c_9221_11eb_84b0_acde48001122row3_col1,#T_4190b62c_9221_11eb_84b0_acde48001122row5_col7{\n",
       "            background-color:  #b1cbfc;\n",
       "            color:  #000000;\n",
       "        }#T_4190b62c_9221_11eb_84b0_acde48001122row3_col2{\n",
       "            background-color:  #8badfd;\n",
       "            color:  #000000;\n",
       "        }#T_4190b62c_9221_11eb_84b0_acde48001122row3_col4{\n",
       "            background-color:  #f7b194;\n",
       "            color:  #000000;\n",
       "        }#T_4190b62c_9221_11eb_84b0_acde48001122row3_col5{\n",
       "            background-color:  #f39778;\n",
       "            color:  #000000;\n",
       "        }#T_4190b62c_9221_11eb_84b0_acde48001122row3_col7{\n",
       "            background-color:  #9fbfff;\n",
       "            color:  #000000;\n",
       "        }#T_4190b62c_9221_11eb_84b0_acde48001122row3_col8,#T_4190b62c_9221_11eb_84b0_acde48001122row8_col4,#T_4190b62c_9221_11eb_84b0_acde48001122row9_col1{\n",
       "            background-color:  #4358cb;\n",
       "            color:  #f1f1f1;\n",
       "        }#T_4190b62c_9221_11eb_84b0_acde48001122row3_col9{\n",
       "            background-color:  #516ddb;\n",
       "            color:  #000000;\n",
       "        }#T_4190b62c_9221_11eb_84b0_acde48001122row3_col10,#T_4190b62c_9221_11eb_84b0_acde48001122row7_col2{\n",
       "            background-color:  #bcd2f7;\n",
       "            color:  #000000;\n",
       "        }#T_4190b62c_9221_11eb_84b0_acde48001122row3_col11{\n",
       "            background-color:  #a9c6fd;\n",
       "            color:  #000000;\n",
       "        }#T_4190b62c_9221_11eb_84b0_acde48001122row4_col2{\n",
       "            background-color:  #7a9df8;\n",
       "            color:  #000000;\n",
       "        }#T_4190b62c_9221_11eb_84b0_acde48001122row4_col3{\n",
       "            background-color:  #f6a385;\n",
       "            color:  #000000;\n",
       "        }#T_4190b62c_9221_11eb_84b0_acde48001122row4_col5{\n",
       "            background-color:  #f3c7b1;\n",
       "            color:  #000000;\n",
       "        }#T_4190b62c_9221_11eb_84b0_acde48001122row4_col6{\n",
       "            background-color:  #7295f4;\n",
       "            color:  #000000;\n",
       "        }#T_4190b62c_9221_11eb_84b0_acde48001122row4_col7{\n",
       "            background-color:  #9dbdff;\n",
       "            color:  #000000;\n",
       "        }#T_4190b62c_9221_11eb_84b0_acde48001122row4_col9{\n",
       "            background-color:  #85a8fc;\n",
       "            color:  #000000;\n",
       "        }#T_4190b62c_9221_11eb_84b0_acde48001122row4_col10{\n",
       "            background-color:  #b6cefa;\n",
       "            color:  #000000;\n",
       "        }#T_4190b62c_9221_11eb_84b0_acde48001122row4_col11{\n",
       "            background-color:  #a5c3fe;\n",
       "            color:  #000000;\n",
       "        }#T_4190b62c_9221_11eb_84b0_acde48001122row5_col0{\n",
       "            background-color:  #c7d7f0;\n",
       "            color:  #000000;\n",
       "        }#T_4190b62c_9221_11eb_84b0_acde48001122row5_col1{\n",
       "            background-color:  #abc8fd;\n",
       "            color:  #000000;\n",
       "        }#T_4190b62c_9221_11eb_84b0_acde48001122row5_col2{\n",
       "            background-color:  #779af7;\n",
       "            color:  #000000;\n",
       "        }#T_4190b62c_9221_11eb_84b0_acde48001122row5_col3{\n",
       "            background-color:  #f18d6f;\n",
       "            color:  #000000;\n",
       "        }#T_4190b62c_9221_11eb_84b0_acde48001122row5_col4{\n",
       "            background-color:  #f1ccb8;\n",
       "            color:  #000000;\n",
       "        }#T_4190b62c_9221_11eb_84b0_acde48001122row5_col6{\n",
       "            background-color:  #92b4fe;\n",
       "            color:  #000000;\n",
       "        }#T_4190b62c_9221_11eb_84b0_acde48001122row5_col8,#T_4190b62c_9221_11eb_84b0_acde48001122row8_col11{\n",
       "            background-color:  #6180e9;\n",
       "            color:  #000000;\n",
       "        }#T_4190b62c_9221_11eb_84b0_acde48001122row5_col9,#T_4190b62c_9221_11eb_84b0_acde48001122row6_col3,#T_4190b62c_9221_11eb_84b0_acde48001122row10_col2{\n",
       "            background-color:  #6f92f3;\n",
       "            color:  #000000;\n",
       "        }#T_4190b62c_9221_11eb_84b0_acde48001122row5_col10,#T_4190b62c_9221_11eb_84b0_acde48001122row8_col6{\n",
       "            background-color:  #c3d5f4;\n",
       "            color:  #000000;\n",
       "        }#T_4190b62c_9221_11eb_84b0_acde48001122row6_col5{\n",
       "            background-color:  #6a8bef;\n",
       "            color:  #000000;\n",
       "        }#T_4190b62c_9221_11eb_84b0_acde48001122row6_col7,#T_4190b62c_9221_11eb_84b0_acde48001122row7_col6{\n",
       "            background-color:  #ef886b;\n",
       "            color:  #000000;\n",
       "        }#T_4190b62c_9221_11eb_84b0_acde48001122row6_col8{\n",
       "            background-color:  #c0d4f5;\n",
       "            color:  #000000;\n",
       "        }#T_4190b62c_9221_11eb_84b0_acde48001122row6_col9,#T_4190b62c_9221_11eb_84b0_acde48001122row9_col6{\n",
       "            background-color:  #cedaeb;\n",
       "            color:  #000000;\n",
       "        }#T_4190b62c_9221_11eb_84b0_acde48001122row6_col10,#T_4190b62c_9221_11eb_84b0_acde48001122row11_col9{\n",
       "            background-color:  #4a63d3;\n",
       "            color:  #f1f1f1;\n",
       "        }#T_4190b62c_9221_11eb_84b0_acde48001122row6_col11,#T_4190b62c_9221_11eb_84b0_acde48001122row11_col6{\n",
       "            background-color:  #3c4ec2;\n",
       "            color:  #f1f1f1;\n",
       "        }#T_4190b62c_9221_11eb_84b0_acde48001122row7_col3{\n",
       "            background-color:  #94b6ff;\n",
       "            color:  #000000;\n",
       "        }#T_4190b62c_9221_11eb_84b0_acde48001122row7_col4{\n",
       "            background-color:  #6788ee;\n",
       "            color:  #000000;\n",
       "        }#T_4190b62c_9221_11eb_84b0_acde48001122row7_col5{\n",
       "            background-color:  #8db0fe;\n",
       "            color:  #000000;\n",
       "        }#T_4190b62c_9221_11eb_84b0_acde48001122row7_col9,#T_4190b62c_9221_11eb_84b0_acde48001122row9_col7{\n",
       "            background-color:  #afcafc;\n",
       "            color:  #000000;\n",
       "        }#T_4190b62c_9221_11eb_84b0_acde48001122row8_col0{\n",
       "            background-color:  #3e51c5;\n",
       "            color:  #f1f1f1;\n",
       "        }#T_4190b62c_9221_11eb_84b0_acde48001122row8_col1{\n",
       "            background-color:  #5875e1;\n",
       "            color:  #000000;\n",
       "        }#T_4190b62c_9221_11eb_84b0_acde48001122row8_col7{\n",
       "            background-color:  #9bbcff;\n",
       "            color:  #000000;\n",
       "        }#T_4190b62c_9221_11eb_84b0_acde48001122row8_col9,#T_4190b62c_9221_11eb_84b0_acde48001122row9_col8{\n",
       "            background-color:  #bd1f2d;\n",
       "            color:  #f1f1f1;\n",
       "        }#T_4190b62c_9221_11eb_84b0_acde48001122row8_col10,#T_4190b62c_9221_11eb_84b0_acde48001122row9_col2{\n",
       "            background-color:  #455cce;\n",
       "            color:  #f1f1f1;\n",
       "        }#T_4190b62c_9221_11eb_84b0_acde48001122row9_col4{\n",
       "            background-color:  #4e68d8;\n",
       "            color:  #000000;\n",
       "        }#T_4190b62c_9221_11eb_84b0_acde48001122row9_col11,#T_4190b62c_9221_11eb_84b0_acde48001122row10_col6{\n",
       "            background-color:  #4961d2;\n",
       "            color:  #f1f1f1;\n",
       "        }#T_4190b62c_9221_11eb_84b0_acde48001122row10_col0{\n",
       "            background-color:  #cb3e38;\n",
       "            color:  #f1f1f1;\n",
       "        }#T_4190b62c_9221_11eb_84b0_acde48001122row10_col3{\n",
       "            background-color:  #b3cdfb;\n",
       "            color:  #000000;\n",
       "        }#T_4190b62c_9221_11eb_84b0_acde48001122row10_col5{\n",
       "            background-color:  #a3c2fe;\n",
       "            color:  #000000;\n",
       "        }#T_4190b62c_9221_11eb_84b0_acde48001122row10_col8{\n",
       "            background-color:  #4055c8;\n",
       "            color:  #f1f1f1;\n",
       "        }#T_4190b62c_9221_11eb_84b0_acde48001122row10_col11,#T_4190b62c_9221_11eb_84b0_acde48001122row11_col10{\n",
       "            background-color:  #d24b40;\n",
       "            color:  #f1f1f1;\n",
       "        }#T_4190b62c_9221_11eb_84b0_acde48001122row11_col2{\n",
       "            background-color:  #5572df;\n",
       "            color:  #000000;\n",
       "        }#T_4190b62c_9221_11eb_84b0_acde48001122row11_col3{\n",
       "            background-color:  #9ebeff;\n",
       "            color:  #000000;\n",
       "        }#T_4190b62c_9221_11eb_84b0_acde48001122row11_col4{\n",
       "            background-color:  #7396f5;\n",
       "            color:  #000000;\n",
       "        }#T_4190b62c_9221_11eb_84b0_acde48001122row11_col5{\n",
       "            background-color:  #82a6fb;\n",
       "            color:  #000000;\n",
       "        }#T_4190b62c_9221_11eb_84b0_acde48001122row11_col8{\n",
       "            background-color:  #5d7ce6;\n",
       "            color:  #000000;\n",
       "        }</style><table id=\"T_4190b62c_9221_11eb_84b0_acde48001122\" ><thead>    <tr>        <th class=\"blank level0\" ></th>        <th class=\"col_heading level0 col0\" >MinTemp</th>        <th class=\"col_heading level0 col1\" >MaxTemp</th>        <th class=\"col_heading level0 col2\" >Rainfall</th>        <th class=\"col_heading level0 col3\" >WindGustSpeed</th>        <th class=\"col_heading level0 col4\" >WindSpeed9am</th>        <th class=\"col_heading level0 col5\" >WindSpeed3pm</th>        <th class=\"col_heading level0 col6\" >Humidity9am</th>        <th class=\"col_heading level0 col7\" >Humidity3pm</th>        <th class=\"col_heading level0 col8\" >Pressure9am</th>        <th class=\"col_heading level0 col9\" >Pressure3pm</th>        <th class=\"col_heading level0 col10\" >Temp9am</th>        <th class=\"col_heading level0 col11\" >Temp3pm</th>    </tr></thead><tbody>\n",
       "                <tr>\n",
       "                        <th id=\"T_4190b62c_9221_11eb_84b0_acde48001122level0_row0\" class=\"row_heading level0 row0\" >MinTemp</th>\n",
       "                        <td id=\"T_4190b62c_9221_11eb_84b0_acde48001122row0_col0\" class=\"data row0 col0\" >1.000000</td>\n",
       "                        <td id=\"T_4190b62c_9221_11eb_84b0_acde48001122row0_col1\" class=\"data row0 col1\" >0.749687</td>\n",
       "                        <td id=\"T_4190b62c_9221_11eb_84b0_acde48001122row0_col2\" class=\"data row0 col2\" >0.110800</td>\n",
       "                        <td id=\"T_4190b62c_9221_11eb_84b0_acde48001122row0_col3\" class=\"data row0 col3\" >0.118054</td>\n",
       "                        <td id=\"T_4190b62c_9221_11eb_84b0_acde48001122row0_col4\" class=\"data row0 col4\" >0.108522</td>\n",
       "                        <td id=\"T_4190b62c_9221_11eb_84b0_acde48001122row0_col5\" class=\"data row0 col5\" >0.137273</td>\n",
       "                        <td id=\"T_4190b62c_9221_11eb_84b0_acde48001122row0_col6\" class=\"data row0 col6\" >-0.174991</td>\n",
       "                        <td id=\"T_4190b62c_9221_11eb_84b0_acde48001122row0_col7\" class=\"data row0 col7\" >0.070827</td>\n",
       "                        <td id=\"T_4190b62c_9221_11eb_84b0_acde48001122row0_col8\" class=\"data row0 col8\" >-0.475661</td>\n",
       "                        <td id=\"T_4190b62c_9221_11eb_84b0_acde48001122row0_col9\" class=\"data row0 col9\" >-0.495577</td>\n",
       "                        <td id=\"T_4190b62c_9221_11eb_84b0_acde48001122row0_col10\" class=\"data row0 col10\" >0.906295</td>\n",
       "                        <td id=\"T_4190b62c_9221_11eb_84b0_acde48001122row0_col11\" class=\"data row0 col11\" >0.727222</td>\n",
       "            </tr>\n",
       "            <tr>\n",
       "                        <th id=\"T_4190b62c_9221_11eb_84b0_acde48001122level0_row1\" class=\"row_heading level0 row1\" >MaxTemp</th>\n",
       "                        <td id=\"T_4190b62c_9221_11eb_84b0_acde48001122row1_col0\" class=\"data row1 col0\" >0.749687</td>\n",
       "                        <td id=\"T_4190b62c_9221_11eb_84b0_acde48001122row1_col1\" class=\"data row1 col1\" >1.000000</td>\n",
       "                        <td id=\"T_4190b62c_9221_11eb_84b0_acde48001122row1_col2\" class=\"data row1 col2\" >-0.069981</td>\n",
       "                        <td id=\"T_4190b62c_9221_11eb_84b0_acde48001122row1_col3\" class=\"data row1 col3\" >0.035531</td>\n",
       "                        <td id=\"T_4190b62c_9221_11eb_84b0_acde48001122row1_col4\" class=\"data row1 col4\" >-0.008171</td>\n",
       "                        <td id=\"T_4190b62c_9221_11eb_84b0_acde48001122row1_col5\" class=\"data row1 col5\" >0.012266</td>\n",
       "                        <td id=\"T_4190b62c_9221_11eb_84b0_acde48001122row1_col6\" class=\"data row1 col6\" >-0.495781</td>\n",
       "                        <td id=\"T_4190b62c_9221_11eb_84b0_acde48001122row1_col7\" class=\"data row1 col7\" >-0.448116</td>\n",
       "                        <td id=\"T_4190b62c_9221_11eb_84b0_acde48001122row1_col8\" class=\"data row1 col8\" >-0.350980</td>\n",
       "                        <td id=\"T_4190b62c_9221_11eb_84b0_acde48001122row1_col9\" class=\"data row1 col9\" >-0.451691</td>\n",
       "                        <td id=\"T_4190b62c_9221_11eb_84b0_acde48001122row1_col10\" class=\"data row1 col10\" >0.893387</td>\n",
       "                        <td id=\"T_4190b62c_9221_11eb_84b0_acde48001122row1_col11\" class=\"data row1 col11\" >0.984841</td>\n",
       "            </tr>\n",
       "            <tr>\n",
       "                        <th id=\"T_4190b62c_9221_11eb_84b0_acde48001122level0_row2\" class=\"row_heading level0 row2\" >Rainfall</th>\n",
       "                        <td id=\"T_4190b62c_9221_11eb_84b0_acde48001122row2_col0\" class=\"data row2 col0\" >0.110800</td>\n",
       "                        <td id=\"T_4190b62c_9221_11eb_84b0_acde48001122row2_col1\" class=\"data row2 col1\" >-0.069981</td>\n",
       "                        <td id=\"T_4190b62c_9221_11eb_84b0_acde48001122row2_col2\" class=\"data row2 col2\" >1.000000</td>\n",
       "                        <td id=\"T_4190b62c_9221_11eb_84b0_acde48001122row2_col3\" class=\"data row2 col3\" >0.106308</td>\n",
       "                        <td id=\"T_4190b62c_9221_11eb_84b0_acde48001122row2_col4\" class=\"data row2 col4\" >0.050584</td>\n",
       "                        <td id=\"T_4190b62c_9221_11eb_84b0_acde48001122row2_col5\" class=\"data row2 col5\" >0.044112</td>\n",
       "                        <td id=\"T_4190b62c_9221_11eb_84b0_acde48001122row2_col6\" class=\"data row2 col6\" >0.263625</td>\n",
       "                        <td id=\"T_4190b62c_9221_11eb_84b0_acde48001122row2_col7\" class=\"data row2 col7\" >0.277625</td>\n",
       "                        <td id=\"T_4190b62c_9221_11eb_84b0_acde48001122row2_col8\" class=\"data row2 col8\" >-0.180606</td>\n",
       "                        <td id=\"T_4190b62c_9221_11eb_84b0_acde48001122row2_col9\" class=\"data row2 col9\" >-0.137302</td>\n",
       "                        <td id=\"T_4190b62c_9221_11eb_84b0_acde48001122row2_col10\" class=\"data row2 col10\" >0.013713</td>\n",
       "                        <td id=\"T_4190b62c_9221_11eb_84b0_acde48001122row2_col11\" class=\"data row2 col11\" >-0.074627</td>\n",
       "            </tr>\n",
       "            <tr>\n",
       "                        <th id=\"T_4190b62c_9221_11eb_84b0_acde48001122level0_row3\" class=\"row_heading level0 row3\" >WindGustSpeed</th>\n",
       "                        <td id=\"T_4190b62c_9221_11eb_84b0_acde48001122row3_col0\" class=\"data row3 col0\" >0.118054</td>\n",
       "                        <td id=\"T_4190b62c_9221_11eb_84b0_acde48001122row3_col1\" class=\"data row3 col1\" >0.035531</td>\n",
       "                        <td id=\"T_4190b62c_9221_11eb_84b0_acde48001122row3_col2\" class=\"data row3 col2\" >0.106308</td>\n",
       "                        <td id=\"T_4190b62c_9221_11eb_84b0_acde48001122row3_col3\" class=\"data row3 col3\" >1.000000</td>\n",
       "                        <td id=\"T_4190b62c_9221_11eb_84b0_acde48001122row3_col4\" class=\"data row3 col4\" >0.608852</td>\n",
       "                        <td id=\"T_4190b62c_9221_11eb_84b0_acde48001122row3_col5\" class=\"data row3 col5\" >0.685236</td>\n",
       "                        <td id=\"T_4190b62c_9221_11eb_84b0_acde48001122row3_col6\" class=\"data row3 col6\" >-0.193410</td>\n",
       "                        <td id=\"T_4190b62c_9221_11eb_84b0_acde48001122row3_col7\" class=\"data row3 col7\" >-0.042653</td>\n",
       "                        <td id=\"T_4190b62c_9221_11eb_84b0_acde48001122row3_col8\" class=\"data row3 col8\" >-0.430363</td>\n",
       "                        <td id=\"T_4190b62c_9221_11eb_84b0_acde48001122row3_col9\" class=\"data row3 col9\" >-0.383683</td>\n",
       "                        <td id=\"T_4190b62c_9221_11eb_84b0_acde48001122row3_col10\" class=\"data row3 col10\" >0.085520</td>\n",
       "                        <td id=\"T_4190b62c_9221_11eb_84b0_acde48001122row3_col11\" class=\"data row3 col11\" >-0.000382</td>\n",
       "            </tr>\n",
       "            <tr>\n",
       "                        <th id=\"T_4190b62c_9221_11eb_84b0_acde48001122level0_row4\" class=\"row_heading level0 row4\" >WindSpeed9am</th>\n",
       "                        <td id=\"T_4190b62c_9221_11eb_84b0_acde48001122row4_col0\" class=\"data row4 col0\" >0.108522</td>\n",
       "                        <td id=\"T_4190b62c_9221_11eb_84b0_acde48001122row4_col1\" class=\"data row4 col1\" >-0.008171</td>\n",
       "                        <td id=\"T_4190b62c_9221_11eb_84b0_acde48001122row4_col2\" class=\"data row4 col2\" >0.050584</td>\n",
       "                        <td id=\"T_4190b62c_9221_11eb_84b0_acde48001122row4_col3\" class=\"data row4 col3\" >0.608852</td>\n",
       "                        <td id=\"T_4190b62c_9221_11eb_84b0_acde48001122row4_col4\" class=\"data row4 col4\" >1.000000</td>\n",
       "                        <td id=\"T_4190b62c_9221_11eb_84b0_acde48001122row4_col5\" class=\"data row4 col5\" >0.502226</td>\n",
       "                        <td id=\"T_4190b62c_9221_11eb_84b0_acde48001122row4_col6\" class=\"data row4 col6\" >-0.236795</td>\n",
       "                        <td id=\"T_4190b62c_9221_11eb_84b0_acde48001122row4_col7\" class=\"data row4 col7\" >-0.058449</td>\n",
       "                        <td id=\"T_4190b62c_9221_11eb_84b0_acde48001122row4_col8\" class=\"data row4 col8\" >-0.201518</td>\n",
       "                        <td id=\"T_4190b62c_9221_11eb_84b0_acde48001122row4_col9\" class=\"data row4 col9\" >-0.155484</td>\n",
       "                        <td id=\"T_4190b62c_9221_11eb_84b0_acde48001122row4_col10\" class=\"data row4 col10\" >0.053749</td>\n",
       "                        <td id=\"T_4190b62c_9221_11eb_84b0_acde48001122row4_col11\" class=\"data row4 col11\" >-0.018357</td>\n",
       "            </tr>\n",
       "            <tr>\n",
       "                        <th id=\"T_4190b62c_9221_11eb_84b0_acde48001122level0_row5\" class=\"row_heading level0 row5\" >WindSpeed3pm</th>\n",
       "                        <td id=\"T_4190b62c_9221_11eb_84b0_acde48001122row5_col0\" class=\"data row5 col0\" >0.137273</td>\n",
       "                        <td id=\"T_4190b62c_9221_11eb_84b0_acde48001122row5_col1\" class=\"data row5 col1\" >0.012266</td>\n",
       "                        <td id=\"T_4190b62c_9221_11eb_84b0_acde48001122row5_col2\" class=\"data row5 col2\" >0.044112</td>\n",
       "                        <td id=\"T_4190b62c_9221_11eb_84b0_acde48001122row5_col3\" class=\"data row5 col3\" >0.685236</td>\n",
       "                        <td id=\"T_4190b62c_9221_11eb_84b0_acde48001122row5_col4\" class=\"data row5 col4\" >0.502226</td>\n",
       "                        <td id=\"T_4190b62c_9221_11eb_84b0_acde48001122row5_col5\" class=\"data row5 col5\" >1.000000</td>\n",
       "                        <td id=\"T_4190b62c_9221_11eb_84b0_acde48001122row5_col6\" class=\"data row5 col6\" >-0.100626</td>\n",
       "                        <td id=\"T_4190b62c_9221_11eb_84b0_acde48001122row5_col7\" class=\"data row5 col7\" >0.031843</td>\n",
       "                        <td id=\"T_4190b62c_9221_11eb_84b0_acde48001122row5_col8\" class=\"data row5 col8\" >-0.293155</td>\n",
       "                        <td id=\"T_4190b62c_9221_11eb_84b0_acde48001122row5_col9\" class=\"data row5 col9\" >-0.252095</td>\n",
       "                        <td id=\"T_4190b62c_9221_11eb_84b0_acde48001122row5_col10\" class=\"data row5 col10\" >0.114043</td>\n",
       "                        <td id=\"T_4190b62c_9221_11eb_84b0_acde48001122row5_col11\" class=\"data row5 col11\" >-0.009436</td>\n",
       "            </tr>\n",
       "            <tr>\n",
       "                        <th id=\"T_4190b62c_9221_11eb_84b0_acde48001122level0_row6\" class=\"row_heading level0 row6\" >Humidity9am</th>\n",
       "                        <td id=\"T_4190b62c_9221_11eb_84b0_acde48001122row6_col0\" class=\"data row6 col0\" >-0.174991</td>\n",
       "                        <td id=\"T_4190b62c_9221_11eb_84b0_acde48001122row6_col1\" class=\"data row6 col1\" >-0.495781</td>\n",
       "                        <td id=\"T_4190b62c_9221_11eb_84b0_acde48001122row6_col2\" class=\"data row6 col2\" >0.263625</td>\n",
       "                        <td id=\"T_4190b62c_9221_11eb_84b0_acde48001122row6_col3\" class=\"data row6 col3\" >-0.193410</td>\n",
       "                        <td id=\"T_4190b62c_9221_11eb_84b0_acde48001122row6_col4\" class=\"data row6 col4\" >-0.236795</td>\n",
       "                        <td id=\"T_4190b62c_9221_11eb_84b0_acde48001122row6_col5\" class=\"data row6 col5\" >-0.100626</td>\n",
       "                        <td id=\"T_4190b62c_9221_11eb_84b0_acde48001122row6_col6\" class=\"data row6 col6\" >1.000000</td>\n",
       "                        <td id=\"T_4190b62c_9221_11eb_84b0_acde48001122row6_col7\" class=\"data row6 col7\" >0.685697</td>\n",
       "                        <td id=\"T_4190b62c_9221_11eb_84b0_acde48001122row6_col8\" class=\"data row6 col8\" >0.114575</td>\n",
       "                        <td id=\"T_4190b62c_9221_11eb_84b0_acde48001122row6_col9\" class=\"data row6 col9\" >0.172972</td>\n",
       "                        <td id=\"T_4190b62c_9221_11eb_84b0_acde48001122row6_col10\" class=\"data row6 col10\" >-0.423598</td>\n",
       "                        <td id=\"T_4190b62c_9221_11eb_84b0_acde48001122row6_col11\" class=\"data row6 col11\" >-0.487758</td>\n",
       "            </tr>\n",
       "            <tr>\n",
       "                        <th id=\"T_4190b62c_9221_11eb_84b0_acde48001122level0_row7\" class=\"row_heading level0 row7\" >Humidity3pm</th>\n",
       "                        <td id=\"T_4190b62c_9221_11eb_84b0_acde48001122row7_col0\" class=\"data row7 col0\" >0.070827</td>\n",
       "                        <td id=\"T_4190b62c_9221_11eb_84b0_acde48001122row7_col1\" class=\"data row7 col1\" >-0.448116</td>\n",
       "                        <td id=\"T_4190b62c_9221_11eb_84b0_acde48001122row7_col2\" class=\"data row7 col2\" >0.277625</td>\n",
       "                        <td id=\"T_4190b62c_9221_11eb_84b0_acde48001122row7_col3\" class=\"data row7 col3\" >-0.042653</td>\n",
       "                        <td id=\"T_4190b62c_9221_11eb_84b0_acde48001122row7_col4\" class=\"data row7 col4\" >-0.058449</td>\n",
       "                        <td id=\"T_4190b62c_9221_11eb_84b0_acde48001122row7_col5\" class=\"data row7 col5\" >0.031843</td>\n",
       "                        <td id=\"T_4190b62c_9221_11eb_84b0_acde48001122row7_col6\" class=\"data row7 col6\" >0.685697</td>\n",
       "                        <td id=\"T_4190b62c_9221_11eb_84b0_acde48001122row7_col7\" class=\"data row7 col7\" >1.000000</td>\n",
       "                        <td id=\"T_4190b62c_9221_11eb_84b0_acde48001122row7_col8\" class=\"data row7 col8\" >-0.063454</td>\n",
       "                        <td id=\"T_4190b62c_9221_11eb_84b0_acde48001122row7_col9\" class=\"data row7 col9\" >0.024109</td>\n",
       "                        <td id=\"T_4190b62c_9221_11eb_84b0_acde48001122row7_col10\" class=\"data row7 col10\" >-0.151614</td>\n",
       "                        <td id=\"T_4190b62c_9221_11eb_84b0_acde48001122row7_col11\" class=\"data row7 col11\" >-0.497245</td>\n",
       "            </tr>\n",
       "            <tr>\n",
       "                        <th id=\"T_4190b62c_9221_11eb_84b0_acde48001122level0_row8\" class=\"row_heading level0 row8\" >Pressure9am</th>\n",
       "                        <td id=\"T_4190b62c_9221_11eb_84b0_acde48001122row8_col0\" class=\"data row8 col0\" >-0.475661</td>\n",
       "                        <td id=\"T_4190b62c_9221_11eb_84b0_acde48001122row8_col1\" class=\"data row8 col1\" >-0.350980</td>\n",
       "                        <td id=\"T_4190b62c_9221_11eb_84b0_acde48001122row8_col2\" class=\"data row8 col2\" >-0.180606</td>\n",
       "                        <td id=\"T_4190b62c_9221_11eb_84b0_acde48001122row8_col3\" class=\"data row8 col3\" >-0.430363</td>\n",
       "                        <td id=\"T_4190b62c_9221_11eb_84b0_acde48001122row8_col4\" class=\"data row8 col4\" >-0.201518</td>\n",
       "                        <td id=\"T_4190b62c_9221_11eb_84b0_acde48001122row8_col5\" class=\"data row8 col5\" >-0.293155</td>\n",
       "                        <td id=\"T_4190b62c_9221_11eb_84b0_acde48001122row8_col6\" class=\"data row8 col6\" >0.114575</td>\n",
       "                        <td id=\"T_4190b62c_9221_11eb_84b0_acde48001122row8_col7\" class=\"data row8 col7\" >-0.063454</td>\n",
       "                        <td id=\"T_4190b62c_9221_11eb_84b0_acde48001122row8_col8\" class=\"data row8 col8\" >1.000000</td>\n",
       "                        <td id=\"T_4190b62c_9221_11eb_84b0_acde48001122row8_col9\" class=\"data row8 col9\" >0.961538</td>\n",
       "                        <td id=\"T_4190b62c_9221_11eb_84b0_acde48001122row8_col10\" class=\"data row8 col10\" >-0.443410</td>\n",
       "                        <td id=\"T_4190b62c_9221_11eb_84b0_acde48001122row8_col11\" class=\"data row8 col11\" >-0.310774</td>\n",
       "            </tr>\n",
       "            <tr>\n",
       "                        <th id=\"T_4190b62c_9221_11eb_84b0_acde48001122level0_row9\" class=\"row_heading level0 row9\" >Pressure3pm</th>\n",
       "                        <td id=\"T_4190b62c_9221_11eb_84b0_acde48001122row9_col0\" class=\"data row9 col0\" >-0.495577</td>\n",
       "                        <td id=\"T_4190b62c_9221_11eb_84b0_acde48001122row9_col1\" class=\"data row9 col1\" >-0.451691</td>\n",
       "                        <td id=\"T_4190b62c_9221_11eb_84b0_acde48001122row9_col2\" class=\"data row9 col2\" >-0.137302</td>\n",
       "                        <td id=\"T_4190b62c_9221_11eb_84b0_acde48001122row9_col3\" class=\"data row9 col3\" >-0.383683</td>\n",
       "                        <td id=\"T_4190b62c_9221_11eb_84b0_acde48001122row9_col4\" class=\"data row9 col4\" >-0.155484</td>\n",
       "                        <td id=\"T_4190b62c_9221_11eb_84b0_acde48001122row9_col5\" class=\"data row9 col5\" >-0.252095</td>\n",
       "                        <td id=\"T_4190b62c_9221_11eb_84b0_acde48001122row9_col6\" class=\"data row9 col6\" >0.172972</td>\n",
       "                        <td id=\"T_4190b62c_9221_11eb_84b0_acde48001122row9_col7\" class=\"data row9 col7\" >0.024109</td>\n",
       "                        <td id=\"T_4190b62c_9221_11eb_84b0_acde48001122row9_col8\" class=\"data row9 col8\" >0.961538</td>\n",
       "                        <td id=\"T_4190b62c_9221_11eb_84b0_acde48001122row9_col9\" class=\"data row9 col9\" >1.000000</td>\n",
       "                        <td id=\"T_4190b62c_9221_11eb_84b0_acde48001122row9_col10\" class=\"data row9 col10\" >-0.500509</td>\n",
       "                        <td id=\"T_4190b62c_9221_11eb_84b0_acde48001122row9_col11\" class=\"data row9 col11\" >-0.421318</td>\n",
       "            </tr>\n",
       "            <tr>\n",
       "                        <th id=\"T_4190b62c_9221_11eb_84b0_acde48001122level0_row10\" class=\"row_heading level0 row10\" >Temp9am</th>\n",
       "                        <td id=\"T_4190b62c_9221_11eb_84b0_acde48001122row10_col0\" class=\"data row10 col0\" >0.906295</td>\n",
       "                        <td id=\"T_4190b62c_9221_11eb_84b0_acde48001122row10_col1\" class=\"data row10 col1\" >0.893387</td>\n",
       "                        <td id=\"T_4190b62c_9221_11eb_84b0_acde48001122row10_col2\" class=\"data row10 col2\" >0.013713</td>\n",
       "                        <td id=\"T_4190b62c_9221_11eb_84b0_acde48001122row10_col3\" class=\"data row10 col3\" >0.085520</td>\n",
       "                        <td id=\"T_4190b62c_9221_11eb_84b0_acde48001122row10_col4\" class=\"data row10 col4\" >0.053749</td>\n",
       "                        <td id=\"T_4190b62c_9221_11eb_84b0_acde48001122row10_col5\" class=\"data row10 col5\" >0.114043</td>\n",
       "                        <td id=\"T_4190b62c_9221_11eb_84b0_acde48001122row10_col6\" class=\"data row10 col6\" >-0.423598</td>\n",
       "                        <td id=\"T_4190b62c_9221_11eb_84b0_acde48001122row10_col7\" class=\"data row10 col7\" >-0.151614</td>\n",
       "                        <td id=\"T_4190b62c_9221_11eb_84b0_acde48001122row10_col8\" class=\"data row10 col8\" >-0.443410</td>\n",
       "                        <td id=\"T_4190b62c_9221_11eb_84b0_acde48001122row10_col9\" class=\"data row10 col9\" >-0.500509</td>\n",
       "                        <td id=\"T_4190b62c_9221_11eb_84b0_acde48001122row10_col10\" class=\"data row10 col10\" >1.000000</td>\n",
       "                        <td id=\"T_4190b62c_9221_11eb_84b0_acde48001122row10_col11\" class=\"data row10 col11\" >0.870620</td>\n",
       "            </tr>\n",
       "            <tr>\n",
       "                        <th id=\"T_4190b62c_9221_11eb_84b0_acde48001122level0_row11\" class=\"row_heading level0 row11\" >Temp3pm</th>\n",
       "                        <td id=\"T_4190b62c_9221_11eb_84b0_acde48001122row11_col0\" class=\"data row11 col0\" >0.727222</td>\n",
       "                        <td id=\"T_4190b62c_9221_11eb_84b0_acde48001122row11_col1\" class=\"data row11 col1\" >0.984841</td>\n",
       "                        <td id=\"T_4190b62c_9221_11eb_84b0_acde48001122row11_col2\" class=\"data row11 col2\" >-0.074627</td>\n",
       "                        <td id=\"T_4190b62c_9221_11eb_84b0_acde48001122row11_col3\" class=\"data row11 col3\" >-0.000382</td>\n",
       "                        <td id=\"T_4190b62c_9221_11eb_84b0_acde48001122row11_col4\" class=\"data row11 col4\" >-0.018357</td>\n",
       "                        <td id=\"T_4190b62c_9221_11eb_84b0_acde48001122row11_col5\" class=\"data row11 col5\" >-0.009436</td>\n",
       "                        <td id=\"T_4190b62c_9221_11eb_84b0_acde48001122row11_col6\" class=\"data row11 col6\" >-0.487758</td>\n",
       "                        <td id=\"T_4190b62c_9221_11eb_84b0_acde48001122row11_col7\" class=\"data row11 col7\" >-0.497245</td>\n",
       "                        <td id=\"T_4190b62c_9221_11eb_84b0_acde48001122row11_col8\" class=\"data row11 col8\" >-0.310774</td>\n",
       "                        <td id=\"T_4190b62c_9221_11eb_84b0_acde48001122row11_col9\" class=\"data row11 col9\" >-0.421318</td>\n",
       "                        <td id=\"T_4190b62c_9221_11eb_84b0_acde48001122row11_col10\" class=\"data row11 col10\" >0.870620</td>\n",
       "                        <td id=\"T_4190b62c_9221_11eb_84b0_acde48001122row11_col11\" class=\"data row11 col11\" >1.000000</td>\n",
       "            </tr>\n",
       "    </tbody></table>"
      ],
      "text/plain": [
       "<pandas.io.formats.style.Styler at 0x11b5e3ee0>"
      ]
     },
     "execution_count": 19,
     "metadata": {},
     "output_type": "execute_result"
    }
   ],
   "source": [
    "corr =  data[numerical_columns].corr()\n",
    "corr.style.background_gradient(cmap='coolwarm')"
   ]
  },
  {
   "cell_type": "code",
   "execution_count": 20,
   "metadata": {},
   "outputs": [],
   "source": [
    "corr_var = set([numerical_columns[x] for x, y in zip(*np.where(corr.abs() > 0.8)) if x != y and x < y])"
   ]
  },
  {
   "cell_type": "code",
   "execution_count": 21,
   "metadata": {},
   "outputs": [],
   "source": [
    "data.drop(columns=list(corr_var), inplace=True)"
   ]
  },
  {
   "cell_type": "code",
   "execution_count": 22,
   "metadata": {},
   "outputs": [],
   "source": [
    "numerical_columns = list(set(numerical_columns) - corr_var)"
   ]
  },
  {
   "cell_type": "code",
   "execution_count": 23,
   "metadata": {},
   "outputs": [],
   "source": [
    "numerical_columns = preprocess_numerical_columns(data, numerical_columns)"
   ]
  },
  {
   "cell_type": "code",
   "execution_count": 24,
   "metadata": {},
   "outputs": [],
   "source": [
    "answer = data['RainTomorrow']\n",
    "data.drop(columns='RainTomorrow', inplace=True)"
   ]
  },
  {
   "cell_type": "code",
   "execution_count": 25,
   "metadata": {},
   "outputs": [],
   "source": [
    "x_train, x_test, y_train, y_test = train_test_split(data, answer, test_size=0.25, shuffle=False)"
   ]
  },
  {
   "cell_type": "markdown",
   "metadata": {},
   "source": [
    "# GridSearchCV"
   ]
  },
  {
   "cell_type": "code",
   "execution_count": 26,
   "metadata": {},
   "outputs": [],
   "source": [
    "from sklearn.model_selection import GridSearchCV\n",
    "from sklearn.linear_model import LogisticRegression"
   ]
  },
  {
   "cell_type": "code",
   "execution_count": 27,
   "metadata": {},
   "outputs": [
    {
     "name": "stdout",
     "output_type": "stream",
     "text": [
      "Fitting 10 folds for each of 14 candidates, totalling 140 fits\n"
     ]
    },
    {
     "name": "stderr",
     "output_type": "stream",
     "text": [
      "[Parallel(n_jobs=-1)]: Using backend LokyBackend with 4 concurrent workers.\n",
      "[Parallel(n_jobs=-1)]: Done  42 tasks      | elapsed:   19.5s\n",
      "[Parallel(n_jobs=-1)]: Done 140 out of 140 | elapsed:   58.0s finished\n"
     ]
    },
    {
     "name": "stdout",
     "output_type": "stream",
     "text": [
      "Best parameters:  {'C': 0.01, 'penalty': 'l2'}\n",
      "Metric:  0.8556448688850671\n"
     ]
    },
    {
     "name": "stderr",
     "output_type": "stream",
     "text": [
      "/usr/local/lib/python3.9/site-packages/sklearn/linear_model/_logistic.py:762: ConvergenceWarning: lbfgs failed to converge (status=1):\n",
      "STOP: TOTAL NO. of ITERATIONS REACHED LIMIT.\n",
      "\n",
      "Increase the number of iterations (max_iter) or scale the data as shown in:\n",
      "    https://scikit-learn.org/stable/modules/preprocessing.html\n",
      "Please also refer to the documentation for alternative solver options:\n",
      "    https://scikit-learn.org/stable/modules/linear_model.html#logistic-regression\n",
      "  n_iter_i = _check_optimize_result(\n"
     ]
    }
   ],
   "source": [
    "grid = {\"C\": np.logspace(-3, 3, 7), \"penalty\": [\"l1\", \"l2\"]}\n",
    "\n",
    "logreg = LogisticRegression()\n",
    "logreg_cv = GridSearchCV(logreg, grid, cv=10, scoring='roc_auc', n_jobs=-1, verbose=1)\n",
    "logreg_cv.fit(x_train, y_train)\n",
    "\n",
    "print(\"Best parameters: \", logreg_cv.best_params_)\n",
    "print(\"Metric: \", logreg_cv.best_score_)"
   ]
  },
  {
   "cell_type": "code",
   "execution_count": 28,
   "metadata": {},
   "outputs": [],
   "source": [
    "clf = LogisticRegression(**{'C': 0.01, 'penalty': 'l2'})"
   ]
  },
  {
   "cell_type": "code",
   "execution_count": 29,
   "metadata": {},
   "outputs": [
    {
     "name": "stderr",
     "output_type": "stream",
     "text": [
      "/usr/local/lib/python3.9/site-packages/sklearn/linear_model/_logistic.py:762: ConvergenceWarning: lbfgs failed to converge (status=1):\n",
      "STOP: TOTAL NO. of ITERATIONS REACHED LIMIT.\n",
      "\n",
      "Increase the number of iterations (max_iter) or scale the data as shown in:\n",
      "    https://scikit-learn.org/stable/modules/preprocessing.html\n",
      "Please also refer to the documentation for alternative solver options:\n",
      "    https://scikit-learn.org/stable/modules/linear_model.html#logistic-regression\n",
      "  n_iter_i = _check_optimize_result(\n"
     ]
    },
    {
     "data": {
      "text/plain": [
       "LogisticRegression(C=0.01)"
      ]
     },
     "execution_count": 29,
     "metadata": {},
     "output_type": "execute_result"
    }
   ],
   "source": [
    "clf.fit(x_train, y_train)"
   ]
  },
  {
   "cell_type": "code",
   "execution_count": 30,
   "metadata": {},
   "outputs": [
    {
     "name": "stdout",
     "output_type": "stream",
     "text": [
      "              precision    recall  f1-score   support\n",
      "\n",
      "           0       0.88      0.97      0.92     11427\n",
      "           1       0.77      0.45      0.57      2678\n",
      "\n",
      "    accuracy                           0.87     14105\n",
      "   macro avg       0.82      0.71      0.74     14105\n",
      "weighted avg       0.86      0.87      0.86     14105\n",
      "\n"
     ]
    }
   ],
   "source": [
    "print(classification_report(y_test, clf.predict(x_test)))"
   ]
  },
  {
   "cell_type": "code",
   "execution_count": 31,
   "metadata": {},
   "outputs": [
    {
     "name": "stderr",
     "output_type": "stream",
     "text": [
      "[Parallel(n_jobs=-1)]: Using backend LokyBackend with 4 concurrent workers.\n"
     ]
    },
    {
     "name": "stdout",
     "output_type": "stream",
     "text": [
      "Fitting 10 folds for each of 100 candidates, totalling 1000 fits\n"
     ]
    },
    {
     "name": "stderr",
     "output_type": "stream",
     "text": [
      "[Parallel(n_jobs=-1)]: Done  42 tasks      | elapsed:    4.4s\n",
      "[Parallel(n_jobs=-1)]: Done 192 tasks      | elapsed:   18.0s\n",
      "[Parallel(n_jobs=-1)]: Done 442 tasks      | elapsed:   47.8s\n",
      "[Parallel(n_jobs=-1)]: Done 792 tasks      | elapsed:  1.5min\n",
      "[Parallel(n_jobs=-1)]: Done 1000 out of 1000 | elapsed:  1.9min finished\n"
     ]
    },
    {
     "name": "stdout",
     "output_type": "stream",
     "text": [
      "Best parameters:  {'var_smoothing': 0.001}\n",
      "Metric:  0.8207790164306777\n"
     ]
    }
   ],
   "source": [
    "grid = {'var_smoothing': np.logspace(0, -9, num=100)}\n",
    "\n",
    "nb = GaussianNB()\n",
    "nb = GridSearchCV(nb, grid, cv=10, scoring='roc_auc', n_jobs=-1, verbose=1)\n",
    "nb.fit(x_train, y_train)\n",
    "\n",
    "print(\"Best parameters: \", nb.best_params_)\n",
    "print(\"Metric: \", nb.best_score_)"
   ]
  },
  {
   "cell_type": "code",
   "execution_count": 32,
   "metadata": {},
   "outputs": [
    {
     "data": {
      "text/plain": [
       "GaussianNB(var_smoothing=0.001)"
      ]
     },
     "execution_count": 32,
     "metadata": {},
     "output_type": "execute_result"
    }
   ],
   "source": [
    "nb = GaussianNB(**{'var_smoothing': 0.001})\n",
    "nb.fit(x_train, y_train)"
   ]
  },
  {
   "cell_type": "code",
   "execution_count": 33,
   "metadata": {},
   "outputs": [
    {
     "name": "stdout",
     "output_type": "stream",
     "text": [
      "              precision    recall  f1-score   support\n",
      "\n",
      "           0       0.91      0.90      0.91     11427\n",
      "           1       0.59      0.64      0.62      2678\n",
      "\n",
      "    accuracy                           0.85     14105\n",
      "   macro avg       0.75      0.77      0.76     14105\n",
      "weighted avg       0.85      0.85      0.85     14105\n",
      "\n"
     ]
    }
   ],
   "source": [
    "print(classification_report(y_test, nb.predict(x_test)))"
   ]
  },
  {
   "cell_type": "code",
   "execution_count": 34,
   "metadata": {},
   "outputs": [
    {
     "name": "stdout",
     "output_type": "stream",
     "text": [
      "Fitting 10 folds for each of 24 candidates, totalling 240 fits\n"
     ]
    },
    {
     "name": "stderr",
     "output_type": "stream",
     "text": [
      "[Parallel(n_jobs=-1)]: Using backend LokyBackend with 4 concurrent workers.\n",
      "[Parallel(n_jobs=-1)]: Done  42 tasks      | elapsed:  1.2min\n",
      "[Parallel(n_jobs=-1)]: Done 192 tasks      | elapsed:  6.1min\n",
      "[Parallel(n_jobs=-1)]: Done 240 out of 240 | elapsed:  8.6min finished\n"
     ]
    }
   ],
   "source": [
    "grid = {'n_neighbors': [3, 4, 5, 10], \n",
    "        'weights': ['uniform', 'distance'],\n",
    "        'algorithm' : ['auto', 'kd_tree', 'brute']\n",
    "        }\n",
    "\n",
    "knn = KNeighborsClassifier()\n",
    "knn = GridSearchCV(knn, grid, cv=10, scoring='roc_auc', n_jobs=-1, verbose=1)\n",
    "knn = knn.fit(x_train, y_train)"
   ]
  },
  {
   "cell_type": "code",
   "execution_count": 35,
   "metadata": {},
   "outputs": [
    {
     "name": "stdout",
     "output_type": "stream",
     "text": [
      "Best parameters:  {'algorithm': 'auto', 'n_neighbors': 10, 'weights': 'distance'}\n",
      "Metric:  0.8071349098387213\n"
     ]
    }
   ],
   "source": [
    "print(\"Best parameters: \", knn.best_params_)\n",
    "print(\"Metric: \", knn.best_score_)"
   ]
  },
  {
   "cell_type": "code",
   "execution_count": 36,
   "metadata": {},
   "outputs": [
    {
     "data": {
      "text/plain": [
       "KNeighborsClassifier(n_neighbors=10, weights='distance')"
      ]
     },
     "execution_count": 36,
     "metadata": {},
     "output_type": "execute_result"
    }
   ],
   "source": [
    "knn = KNeighborsClassifier(**{'algorithm': 'auto', 'n_neighbors': 10, 'weights': 'distance'})\n",
    "knn.fit(x_train, y_train)"
   ]
  },
  {
   "cell_type": "code",
   "execution_count": 37,
   "metadata": {},
   "outputs": [
    {
     "name": "stdout",
     "output_type": "stream",
     "text": [
      "              precision    recall  f1-score   support\n",
      "\n",
      "           0       0.85      0.96      0.90     11427\n",
      "           1       0.61      0.30      0.40      2678\n",
      "\n",
      "    accuracy                           0.83     14105\n",
      "   macro avg       0.73      0.63      0.65     14105\n",
      "weighted avg       0.81      0.83      0.81     14105\n",
      "\n"
     ]
    }
   ],
   "source": [
    "print(classification_report(y_test, knn.predict(x_test)))"
   ]
  },
  {
   "cell_type": "markdown",
   "metadata": {},
   "source": [
    "# Timing"
   ]
  },
  {
   "cell_type": "code",
   "execution_count": 38,
   "metadata": {},
   "outputs": [
    {
     "name": "stdout",
     "output_type": "stream",
     "text": [
      "CPU times: user 9.19 ms, sys: 3.05 ms, total: 12.2 ms\n",
      "Wall time: 9.36 ms\n"
     ]
    },
    {
     "data": {
      "text/plain": [
       "array([0, 0, 0, ..., 0, 0, 0])"
      ]
     },
     "execution_count": 38,
     "metadata": {},
     "output_type": "execute_result"
    }
   ],
   "source": [
    "%%time\n",
    "clf.predict(x_test)"
   ]
  },
  {
   "cell_type": "code",
   "execution_count": 39,
   "metadata": {},
   "outputs": [
    {
     "name": "stdout",
     "output_type": "stream",
     "text": [
      "CPU times: user 49 ms, sys: 15.1 ms, total: 64.1 ms\n",
      "Wall time: 35.8 ms\n"
     ]
    },
    {
     "data": {
      "text/plain": [
       "array([0, 0, 0, ..., 0, 0, 0])"
      ]
     },
     "execution_count": 39,
     "metadata": {},
     "output_type": "execute_result"
    }
   ],
   "source": [
    "%%time\n",
    "nb.predict(x_test)"
   ]
  },
  {
   "cell_type": "code",
   "execution_count": 40,
   "metadata": {},
   "outputs": [
    {
     "name": "stdout",
     "output_type": "stream",
     "text": [
      "CPU times: user 8.81 s, sys: 33.9 ms, total: 8.84 s\n",
      "Wall time: 8.75 s\n"
     ]
    },
    {
     "data": {
      "text/plain": [
       "array([0, 0, 0, ..., 0, 0, 0])"
      ]
     },
     "execution_count": 40,
     "metadata": {},
     "output_type": "execute_result"
    }
   ],
   "source": [
    "%%time\n",
    "knn.predict(x_test)"
   ]
  },
  {
   "cell_type": "markdown",
   "metadata": {},
   "source": [
    "# Conclusion"
   ]
  },
  {
   "cell_type": "markdown",
   "metadata": {},
   "source": [
    "В качестве метрики оценивания была выбрана roc auc. После чего были подобныны лучшее ппараметры для следующих моделей:\n",
    "Байесовских классификаторов\n",
    "Логистической регрессии\n",
    "Метода ближайших соседей\n",
    "\n",
    "Лучший результам показала логистическая регрессия (0.8556) с параметрами {'C': 0.01, 'penalty': 'l2'}\n",
    "\n",
    "Так же сравнивалась скорость работы моделей, лучше результат показала логистическая регрессия - 9.36ms"
   ]
  },
  {
   "cell_type": "code",
   "execution_count": null,
   "metadata": {},
   "outputs": [],
   "source": []
  }
 ],
 "metadata": {
  "kernelspec": {
   "display_name": "Python 3",
   "language": "python",
   "name": "python3"
  },
  "language_info": {
   "codemirror_mode": {
    "name": "ipython",
    "version": 3
   },
   "file_extension": ".py",
   "mimetype": "text/x-python",
   "name": "python",
   "nbconvert_exporter": "python",
   "pygments_lexer": "ipython3",
   "version": "3.9.0"
  }
 },
 "nbformat": 4,
 "nbformat_minor": 4
}
